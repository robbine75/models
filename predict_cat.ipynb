{
 "cells": [
  {
   "cell_type": "code",
   "execution_count": 1,
   "id": "potential-strap",
   "metadata": {},
   "outputs": [],
   "source": [
    "from fast_bert.prediction import BertClassificationPredictor"
   ]
  },
  {
   "cell_type": "code",
   "execution_count": 7,
   "id": "printable-lotus",
   "metadata": {},
   "outputs": [],
   "source": [
    "from pathlib import Path\n",
    "OUTPUT_DIR=Path('../models/output')\n",
    "MODEL_PATH = OUTPUT_DIR/'model_out'\n",
    "LABEL_PATH = Path('../labels/')"
   ]
  },
  {
   "cell_type": "code",
   "execution_count": 8,
   "id": "natural-extent",
   "metadata": {},
   "outputs": [
    {
     "data": {
      "text/plain": [
       "WindowsPath('../models/output/model_out')"
      ]
     },
     "execution_count": 8,
     "metadata": {},
     "output_type": "execute_result"
    }
   ],
   "source": [
    "MODEL_PATH"
   ]
  },
  {
   "cell_type": "code",
   "execution_count": 9,
   "id": "raised-reduction",
   "metadata": {},
   "outputs": [],
   "source": [
    "predictor = BertClassificationPredictor(\n",
    "                model_path=str(MODEL_PATH),\n",
    "                label_path=LABEL_PATH, # location for labels.csv file\n",
    "                multi_label=True,\n",
    "                model_type='xlnet',\n",
    "                do_lower_case=True,\n",
    "                device=None) # set custom torch.device, defaults to cuda if available"
   ]
  },
  {
   "cell_type": "code",
   "execution_count": 15,
   "id": "following-serbia",
   "metadata": {},
   "outputs": [],
   "source": [
    "# Single prediction\n",
    "single_prediction = predictor.predict(\"i love the personnel touch and the coffee  the tellers are always great to chat with and they remember details about me. i think matt (?) is always enjoyable to talk with.\")"
   ]
  },
  {
   "cell_type": "code",
   "execution_count": 16,
   "id": "resistant-secretariat",
   "metadata": {},
   "outputs": [
    {
     "data": {
      "text/plain": [
       "[('Personnel', 0.9753144979476929),\n",
       " ('Facility Attributes', 0.9439847469329834),\n",
       " ('Personnel Attributes', 0.8634077310562134),\n",
       " ('Processes', 0.059000659734010696),\n",
       " ('Facilities', 0.0349561870098114),\n",
       " ('Product Attributes', 0.02916496805846691),\n",
       " ('Marketing', 0.01741594634950161),\n",
       " ('Products', 0.017365075647830963),\n",
       " ('Customer Rescue Tags', 0.011761387810111046),\n",
       " ('Risks', 0.009837303310632706),\n",
       " ('Customer Contacted Tags', 0.008624414913356304),\n",
       " ('Risk Management', 0.002912792842835188),\n",
       " ('Food Items', 0.002719831420108676),\n",
       " ('Risk', 0.002195489127188921),\n",
       " ('Products / Services', 0.0020080332178622484),\n",
       " ('Product and Service Attributes', 0.0017343813087791204),\n",
       " ('Covered Products', 0.0012797577073797584),\n",
       " ('Company Attributes', 0.0001495931501267478)]"
      ]
     },
     "execution_count": 16,
     "metadata": {},
     "output_type": "execute_result"
    }
   ],
   "source": [
    "single_prediction"
   ]
  },
  {
   "cell_type": "code",
   "execution_count": 12,
   "id": "convinced-visiting",
   "metadata": {},
   "outputs": [],
   "source": [
    "# Batch predictions\n",
    "texts = [\n",
    "    \"this is the first text\",\n",
    "    \"this is the second text\"\n",
    "    ]\n",
    "\n",
    "multiple_predictions = predictor.predict_batch(texts)"
   ]
  },
  {
   "cell_type": "code",
   "execution_count": 13,
   "id": "precise-andrew",
   "metadata": {},
   "outputs": [
    {
     "data": {
      "text/plain": [
       "[[('Personnel Attributes', 0.8937461972236633),\n",
       "  ('Marketing', 0.07621665298938751),\n",
       "  ('Customer Rescue Tags', 0.0662389025092125),\n",
       "  ('Customer Contacted Tags', 0.02643257938325405),\n",
       "  ('Processes', 0.015516047365963459),\n",
       "  ('Personnel', 0.0040414100512862206),\n",
       "  ('Products', 0.003473386401310563),\n",
       "  ('Risks', 0.003344382857903838),\n",
       "  ('Product Attributes', 0.0029308744706213474),\n",
       "  ('Facility Attributes', 0.002386176260188222),\n",
       "  ('Facilities', 0.0019365379121154547),\n",
       "  ('Risk Management', 0.0007099992362782359),\n",
       "  ('Risk', 0.00048567241174168885),\n",
       "  ('Products / Services', 0.00047538644867017865),\n",
       "  ('Food Items', 0.0003152923018205911),\n",
       "  ('Product and Service Attributes', 0.0003115848230663687),\n",
       "  ('Covered Products', 0.0001635225344216451),\n",
       "  ('Company Attributes', 9.591400157660246e-06)],\n",
       " [('Personnel Attributes', 0.9090179800987244),\n",
       "  ('Customer Rescue Tags', 0.19138407707214355),\n",
       "  ('Customer Contacted Tags', 0.044552065432071686),\n",
       "  ('Processes', 0.025616750121116638),\n",
       "  ('Marketing', 0.021474357694387436),\n",
       "  ('Personnel', 0.004098796285688877),\n",
       "  ('Risks', 0.003998652100563049),\n",
       "  ('Facilities', 0.003296245587989688),\n",
       "  ('Products', 0.003153891069814563),\n",
       "  ('Facility Attributes', 0.0028637757059186697),\n",
       "  ('Product Attributes', 0.0021810149773955345),\n",
       "  ('Risk Management', 0.0008472075569443405),\n",
       "  ('Risk', 0.0006267282296903431),\n",
       "  ('Products / Services', 0.0006045704940333962),\n",
       "  ('Food Items', 0.0005957206594757736),\n",
       "  ('Product and Service Attributes', 0.000441418873379007),\n",
       "  ('Covered Products', 0.00025648236623965204),\n",
       "  ('Company Attributes', 1.9179771697963588e-05)]]"
      ]
     },
     "execution_count": 13,
     "metadata": {},
     "output_type": "execute_result"
    }
   ],
   "source": [
    "multiple_predictions "
   ]
  }
 ],
 "metadata": {
  "kernelspec": {
   "display_name": "Python 3",
   "language": "python",
   "name": "python3"
  },
  "language_info": {
   "codemirror_mode": {
    "name": "ipython",
    "version": 3
   },
   "file_extension": ".py",
   "mimetype": "text/x-python",
   "name": "python",
   "nbconvert_exporter": "python",
   "pygments_lexer": "ipython3",
   "version": "3.8.6"
  }
 },
 "nbformat": 4,
 "nbformat_minor": 5
}
